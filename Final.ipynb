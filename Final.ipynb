{
 "cells": [
  {
   "cell_type": "markdown",
   "metadata": {},
   "source": [
    "# Group 103\n",
    "\n",
    "\n",
    "## Anudeep Alam\n",
    "\n"
   ]
  },
  {
   "cell_type": "markdown",
   "metadata": {},
   "source": [
    "### Introduction and Motivation\n",
    "\n",
    "For this Project, my goal was to learn, practice, and immplement different classification machine learning algorithms that have been talked about in class and are in popular use in the world. My only experience with python and machine learning was in COGS 108, and I wanted to further my knowledge in Python and Machine Learning. Furthermore, the idea of using EEG signals to train models, which can then predict a certain aspect about us, for example if this person intoxicated, happy, sad, concentrated, etc, is simply fascinating to me.\n",
    "\n",
    "The reason I decided to choose EEG data dealing with confused state, is because it is something I found fun and interesting. Also, the data  easy to read and understandable. Acccording to the Kaggle, this dataset was \"collected from ten students, each watching ten videos. Therefore, it can be seen as only 100 data points for these 12000+ rows. If you look at this way, then each data point consists of 120+ rows, which is sampled every 0.5 seconds (so each data point is a one minute video). Signals with higher frequency are reported as the mean value during each 0.5 second.\" The kaggle dataset also includes a demographic.csv, however it does't seem relevant to the project and thus will not be used. \n",
    "\n",
    "In this project we will use classical machine learning algorithms such as Logistic Regression, Support Vector Machine, Linear Discriminant Analysis, and Random Forest Regression to train a classifier model to predict whether a student is confused or not\n",
    "\n",
    "\n",
    "Dataset link: https://www.kaggle.com/wanghaohan/confused-eeg\n",
    "\n",
    "Acknowledgment: Wang, H., Li, Y., Hu, X., Yang, Y., Meng, Z., & Chang, K. M. (2013, June). Using EEG to Improve Massive Open Online Courses Feedback Interaction. In AIED Workshops. \n"
   ]
  },
  {
   "cell_type": "markdown",
   "metadata": {},
   "source": [
    "#### Imports"
   ]
  },
  {
   "cell_type": "code",
   "execution_count": 51,
   "metadata": {},
   "outputs": [],
   "source": [
    "import pandas as pd\n",
    "import numpy as np\n",
    "import seaborn as sns\n",
    "import math\n",
    "from sklearn.datasets import make_classification\n",
    "from matplotlib import pyplot as plt\n",
    "from sklearn.linear_model import LogisticRegression\n",
    "from sklearn.model_selection import train_test_split\n",
    "from sklearn.metrics import confusion_matrix\n",
    "from sklearn.metrics import ConfusionMatrixDisplay\n",
    "from sklearn.svm import SVC\n",
    "from sklearn.discriminant_analysis import LinearDiscriminantAnalysis\n",
    "from sklearn.preprocessing import StandardScaler\n",
    "from sklearn.neighbors import KNeighborsClassifier\n",
    "from sklearn import metrics\n",
    "from sklearn.ensemble import RandomForestClassifier\n",
    "\n"
   ]
  },
  {
   "cell_type": "markdown",
   "metadata": {},
   "source": [
    "### Data Introduction and Cleaning"
   ]
  },
  {
   "cell_type": "code",
   "execution_count": 2,
   "metadata": {},
   "outputs": [
    {
     "data": {
      "text/plain": [
       "Index(['SubjectID', 'VideoID', 'Attention', 'Mediation', 'Raw', 'Delta',\n",
       "       'Theta', 'Alpha1', 'Alpha2', 'Beta1', 'Beta2', 'Gamma1', 'Gamma2',\n",
       "       'predefinedlabel', 'user-definedlabeln'],\n",
       "      dtype='object')"
      ]
     },
     "execution_count": 2,
     "metadata": {},
     "output_type": "execute_result"
    }
   ],
   "source": [
    "df = pd.read_csv(\"EEG_data.csv\")\n",
    "\n",
    "df.columns\n"
   ]
  },
  {
   "cell_type": "markdown",
   "metadata": {},
   "source": [
    "As we can see from the column names we have features such as SubjectID, VideoID, Attention, Mediation, Theta, Alpha1, Alpha2, Beta1, Beta2, Gamma1, Gamma2, predefinedlabel, user-defiedlabeln. In the scope of this project SubjectID and videoID don't seem to be relevant and thus we can drop them. We also don't need the predefinedlabel since, are focus is on the response of the user. However before we do is first its important to see that there is a relatively even amount of trials of data per subject"
   ]
  },
  {
   "cell_type": "code",
   "execution_count": 3,
   "metadata": {},
   "outputs": [
    {
     "data": {
      "text/plain": [
       "3.0    1314\n",
       "1.0    1301\n",
       "4.0    1295\n",
       "2.0    1284\n",
       "8.0    1282\n",
       "7.0    1276\n",
       "6.0    1275\n",
       "5.0    1262\n",
       "0.0    1261\n",
       "9.0    1261\n",
       "Name: SubjectID, dtype: int64"
      ]
     },
     "execution_count": 3,
     "metadata": {},
     "output_type": "execute_result"
    }
   ],
   "source": [
    "df['SubjectID'].value_counts()"
   ]
  },
  {
   "cell_type": "markdown",
   "metadata": {},
   "source": [
    "Next we need to divide our data into 80/20 Splits "
   ]
  },
  {
   "cell_type": "code",
   "execution_count": 4,
   "metadata": {},
   "outputs": [
    {
     "data": {
      "text/html": [
       "<div>\n",
       "<style scoped>\n",
       "    .dataframe tbody tr th:only-of-type {\n",
       "        vertical-align: middle;\n",
       "    }\n",
       "\n",
       "    .dataframe tbody tr th {\n",
       "        vertical-align: top;\n",
       "    }\n",
       "\n",
       "    .dataframe thead th {\n",
       "        text-align: right;\n",
       "    }\n",
       "</style>\n",
       "<table border=\"1\" class=\"dataframe\">\n",
       "  <thead>\n",
       "    <tr style=\"text-align: right;\">\n",
       "      <th></th>\n",
       "      <th>SubjectID</th>\n",
       "      <th>VideoID</th>\n",
       "      <th>Attention</th>\n",
       "      <th>Mediation</th>\n",
       "      <th>Raw</th>\n",
       "      <th>Delta</th>\n",
       "      <th>Theta</th>\n",
       "      <th>Alpha1</th>\n",
       "      <th>Alpha2</th>\n",
       "      <th>Beta1</th>\n",
       "      <th>Beta2</th>\n",
       "      <th>Gamma1</th>\n",
       "      <th>Gamma2</th>\n",
       "      <th>predefinedlabel</th>\n",
       "      <th>user-definedlabeln</th>\n",
       "    </tr>\n",
       "  </thead>\n",
       "  <tbody>\n",
       "    <tr>\n",
       "      <th>count</th>\n",
       "      <td>12811.000000</td>\n",
       "      <td>12811.000000</td>\n",
       "      <td>12811.000000</td>\n",
       "      <td>12811.000000</td>\n",
       "      <td>12811.000000</td>\n",
       "      <td>1.281100e+04</td>\n",
       "      <td>1.281100e+04</td>\n",
       "      <td>1.281100e+04</td>\n",
       "      <td>1.281100e+04</td>\n",
       "      <td>1.281100e+04</td>\n",
       "      <td>1.281100e+04</td>\n",
       "      <td>1.281100e+04</td>\n",
       "      <td>1.281100e+04</td>\n",
       "      <td>12811.000000</td>\n",
       "      <td>12811.000000</td>\n",
       "    </tr>\n",
       "    <tr>\n",
       "      <th>mean</th>\n",
       "      <td>4.487394</td>\n",
       "      <td>4.390602</td>\n",
       "      <td>41.313871</td>\n",
       "      <td>47.182656</td>\n",
       "      <td>65.570760</td>\n",
       "      <td>6.057853e+05</td>\n",
       "      <td>1.680526e+05</td>\n",
       "      <td>4.138435e+04</td>\n",
       "      <td>3.318339e+04</td>\n",
       "      <td>2.431837e+04</td>\n",
       "      <td>3.814433e+04</td>\n",
       "      <td>2.959255e+04</td>\n",
       "      <td>1.441597e+04</td>\n",
       "      <td>0.479978</td>\n",
       "      <td>0.512606</td>\n",
       "    </tr>\n",
       "    <tr>\n",
       "      <th>std</th>\n",
       "      <td>2.865373</td>\n",
       "      <td>2.913232</td>\n",
       "      <td>23.152953</td>\n",
       "      <td>22.655976</td>\n",
       "      <td>597.921035</td>\n",
       "      <td>6.376236e+05</td>\n",
       "      <td>2.441346e+05</td>\n",
       "      <td>7.243082e+04</td>\n",
       "      <td>5.831410e+04</td>\n",
       "      <td>3.837968e+04</td>\n",
       "      <td>7.906606e+04</td>\n",
       "      <td>7.982637e+04</td>\n",
       "      <td>3.603523e+04</td>\n",
       "      <td>0.499618</td>\n",
       "      <td>0.499861</td>\n",
       "    </tr>\n",
       "    <tr>\n",
       "      <th>min</th>\n",
       "      <td>0.000000</td>\n",
       "      <td>0.000000</td>\n",
       "      <td>0.000000</td>\n",
       "      <td>0.000000</td>\n",
       "      <td>-2048.000000</td>\n",
       "      <td>4.480000e+02</td>\n",
       "      <td>1.700000e+01</td>\n",
       "      <td>2.000000e+00</td>\n",
       "      <td>2.000000e+00</td>\n",
       "      <td>3.000000e+00</td>\n",
       "      <td>2.000000e+00</td>\n",
       "      <td>1.000000e+00</td>\n",
       "      <td>2.000000e+00</td>\n",
       "      <td>0.000000</td>\n",
       "      <td>0.000000</td>\n",
       "    </tr>\n",
       "    <tr>\n",
       "      <th>25%</th>\n",
       "      <td>2.000000</td>\n",
       "      <td>2.000000</td>\n",
       "      <td>27.000000</td>\n",
       "      <td>37.000000</td>\n",
       "      <td>-14.000000</td>\n",
       "      <td>9.806400e+04</td>\n",
       "      <td>2.691750e+04</td>\n",
       "      <td>6.838000e+03</td>\n",
       "      <td>6.852000e+03</td>\n",
       "      <td>6.140000e+03</td>\n",
       "      <td>7.358500e+03</td>\n",
       "      <td>4.058000e+03</td>\n",
       "      <td>2.167500e+03</td>\n",
       "      <td>0.000000</td>\n",
       "      <td>0.000000</td>\n",
       "    </tr>\n",
       "    <tr>\n",
       "      <th>50%</th>\n",
       "      <td>4.000000</td>\n",
       "      <td>4.000000</td>\n",
       "      <td>43.000000</td>\n",
       "      <td>51.000000</td>\n",
       "      <td>35.000000</td>\n",
       "      <td>3.954870e+05</td>\n",
       "      <td>8.133100e+04</td>\n",
       "      <td>1.750000e+04</td>\n",
       "      <td>1.495900e+04</td>\n",
       "      <td>1.281800e+04</td>\n",
       "      <td>1.581000e+04</td>\n",
       "      <td>9.763000e+03</td>\n",
       "      <td>5.116000e+03</td>\n",
       "      <td>0.000000</td>\n",
       "      <td>1.000000</td>\n",
       "    </tr>\n",
       "    <tr>\n",
       "      <th>75%</th>\n",
       "      <td>7.000000</td>\n",
       "      <td>7.000000</td>\n",
       "      <td>57.000000</td>\n",
       "      <td>63.000000</td>\n",
       "      <td>90.000000</td>\n",
       "      <td>9.166230e+05</td>\n",
       "      <td>2.052760e+05</td>\n",
       "      <td>4.477950e+04</td>\n",
       "      <td>3.455050e+04</td>\n",
       "      <td>2.740600e+04</td>\n",
       "      <td>3.549400e+04</td>\n",
       "      <td>2.488800e+04</td>\n",
       "      <td>1.266950e+04</td>\n",
       "      <td>1.000000</td>\n",
       "      <td>1.000000</td>\n",
       "    </tr>\n",
       "    <tr>\n",
       "      <th>max</th>\n",
       "      <td>9.000000</td>\n",
       "      <td>9.000000</td>\n",
       "      <td>100.000000</td>\n",
       "      <td>100.000000</td>\n",
       "      <td>2047.000000</td>\n",
       "      <td>3.964663e+06</td>\n",
       "      <td>3.007802e+06</td>\n",
       "      <td>1.369955e+06</td>\n",
       "      <td>1.016913e+06</td>\n",
       "      <td>1.067778e+06</td>\n",
       "      <td>1.645369e+06</td>\n",
       "      <td>1.972506e+06</td>\n",
       "      <td>1.348117e+06</td>\n",
       "      <td>1.000000</td>\n",
       "      <td>1.000000</td>\n",
       "    </tr>\n",
       "  </tbody>\n",
       "</table>\n",
       "</div>"
      ],
      "text/plain": [
       "          SubjectID       VideoID     Attention     Mediation           Raw  \\\n",
       "count  12811.000000  12811.000000  12811.000000  12811.000000  12811.000000   \n",
       "mean       4.487394      4.390602     41.313871     47.182656     65.570760   \n",
       "std        2.865373      2.913232     23.152953     22.655976    597.921035   \n",
       "min        0.000000      0.000000      0.000000      0.000000  -2048.000000   \n",
       "25%        2.000000      2.000000     27.000000     37.000000    -14.000000   \n",
       "50%        4.000000      4.000000     43.000000     51.000000     35.000000   \n",
       "75%        7.000000      7.000000     57.000000     63.000000     90.000000   \n",
       "max        9.000000      9.000000    100.000000    100.000000   2047.000000   \n",
       "\n",
       "              Delta         Theta        Alpha1        Alpha2         Beta1  \\\n",
       "count  1.281100e+04  1.281100e+04  1.281100e+04  1.281100e+04  1.281100e+04   \n",
       "mean   6.057853e+05  1.680526e+05  4.138435e+04  3.318339e+04  2.431837e+04   \n",
       "std    6.376236e+05  2.441346e+05  7.243082e+04  5.831410e+04  3.837968e+04   \n",
       "min    4.480000e+02  1.700000e+01  2.000000e+00  2.000000e+00  3.000000e+00   \n",
       "25%    9.806400e+04  2.691750e+04  6.838000e+03  6.852000e+03  6.140000e+03   \n",
       "50%    3.954870e+05  8.133100e+04  1.750000e+04  1.495900e+04  1.281800e+04   \n",
       "75%    9.166230e+05  2.052760e+05  4.477950e+04  3.455050e+04  2.740600e+04   \n",
       "max    3.964663e+06  3.007802e+06  1.369955e+06  1.016913e+06  1.067778e+06   \n",
       "\n",
       "              Beta2        Gamma1        Gamma2  predefinedlabel  \\\n",
       "count  1.281100e+04  1.281100e+04  1.281100e+04     12811.000000   \n",
       "mean   3.814433e+04  2.959255e+04  1.441597e+04         0.479978   \n",
       "std    7.906606e+04  7.982637e+04  3.603523e+04         0.499618   \n",
       "min    2.000000e+00  1.000000e+00  2.000000e+00         0.000000   \n",
       "25%    7.358500e+03  4.058000e+03  2.167500e+03         0.000000   \n",
       "50%    1.581000e+04  9.763000e+03  5.116000e+03         0.000000   \n",
       "75%    3.549400e+04  2.488800e+04  1.266950e+04         1.000000   \n",
       "max    1.645369e+06  1.972506e+06  1.348117e+06         1.000000   \n",
       "\n",
       "       user-definedlabeln  \n",
       "count        12811.000000  \n",
       "mean             0.512606  \n",
       "std              0.499861  \n",
       "min              0.000000  \n",
       "25%              0.000000  \n",
       "50%              1.000000  \n",
       "75%              1.000000  \n",
       "max              1.000000  "
      ]
     },
     "execution_count": 4,
     "metadata": {},
     "output_type": "execute_result"
    }
   ],
   "source": [
    "df.describe()"
   ]
  },
  {
   "cell_type": "markdown",
   "metadata": {},
   "source": [
    "Looking at our data, it is interesting to see that the standard deviation is close in value or greater than the mean for various signals such as raw, delta, theta, Alpha1, Alpha2, Beta1, Beta2, Gamma1, Gamma2. This is not sigificant yet, however it does show our data is not normally distributed and is something to look out for. We can visualize this further through boxplots"
   ]
  },
  {
   "cell_type": "code",
   "execution_count": 5,
   "metadata": {},
   "outputs": [
    {
     "data": {
      "image/png": "[encoded data removed]",
      "text/plain": [
       "<Figure size 432x288 with 1 Axes>"
      ]
     },
     "metadata": {
      "needs_background": "light"
     },
     "output_type": "display_data"
    },
    {
     "data": {
      "image/png": "[encoded data removed]",
      "text/plain": [
       "<Figure size 432x288 with 1 Axes>"
      ]
     },
     "metadata": {
      "needs_background": "light"
     },
     "output_type": "display_data"
    },
    {
     "data": {
      "image/png": "[encoded data removed]",
      "text/plain": [
       "<Figure size 432x288 with 1 Axes>"
      ]
     },
     "metadata": {
      "needs_background": "light"
     },
     "output_type": "display_data"
    },
    {
     "data": {
      "image/png": "[encoded data removed]",
      "text/plain": [
       "<Figure size 432x288 with 1 Axes>"
      ]
     },
     "metadata": {
      "needs_background": "light"
     },
     "output_type": "display_data"
    },
    {
     "data": {
      "image/png": "[encoded data removed]",
      "text/plain": [
       "<Figure size 432x288 with 1 Axes>"
      ]
     },
     "metadata": {
      "needs_background": "light"
     },
     "output_type": "display_data"
    },
    {
     "data": {
      "image/png": "[encoded data removed]",
      "text/plain": [
       "<Figure size 432x288 with 1 Axes>"
      ]
     },
     "metadata": {
      "needs_background": "light"
     },
     "output_type": "display_data"
    },
    {
     "data": {
      "image/png": "[encoded data removed]",
      "text/plain": [
       "<Figure size 432x288 with 1 Axes>"
      ]
     },
     "metadata": {
      "needs_background": "light"
     },
     "output_type": "display_data"
    },
    {
     "data": {
      "image/png": "[encoded data removed]",
      "text/plain": [
       "<Figure size 432x288 with 1 Axes>"
      ]
     },
     "metadata": {
      "needs_background": "light"
     },
     "output_type": "display_data"
    },
    {
     "data": {
      "image/png": "[encoded data removed]",
      "text/plain": [
       "<Figure size 432x288 with 1 Axes>"
      ]
     },
     "metadata": {
      "needs_background": "light"
     },
     "output_type": "display_data"
    },
    {
     "data": {
      "image/png": "[encoded data removed]",
      "text/plain": [
       "<Figure size 432x288 with 1 Axes>"
      ]
     },
     "metadata": {
      "needs_background": "light"
     },
     "output_type": "display_data"
    },
    {
     "data": {
      "image/png": "[encoded data removed]",
      "text/plain": [
       "<Figure size 432x288 with 1 Axes>"
      ]
     },
     "metadata": {
      "needs_background": "light"
     },
     "output_type": "display_data"
    },
    {
     "data": {
      "image/png": "[encoded data removed]",
      "text/plain": [
       "<Figure size 432x288 with 1 Axes>"
      ]
     },
     "metadata": {
      "needs_background": "light"
     },
     "output_type": "display_data"
    },
    {
     "data": {
      "image/png": "[encoded data removed]",
      "text/plain": [
       "<Figure size 432x288 with 1 Axes>"
      ]
     },
     "metadata": {
      "needs_background": "light"
     },
     "output_type": "display_data"
    },
    {
     "data": {
      "image/png": "[encoded data removed]",
      "text/plain": [
       "<Figure size 432x288 with 1 Axes>"
      ]
     },
     "metadata": {
      "needs_background": "light"
     },
     "output_type": "display_data"
    },
    {
     "data": {
      "image/png": "[encoded data removed]",
      "text/plain": [
       "<Figure size 432x288 with 1 Axes>"
      ]
     },
     "metadata": {
      "needs_background": "light"
     },
     "output_type": "display_data"
    }
   ],
   "source": [
    "for column in df:\n",
    "    plt.figure()\n",
    "    df.boxplot([column])"
   ]
  },
  {
   "cell_type": "markdown",
   "metadata": {},
   "source": [
    "From the boxplots, we can see that there are numerous amounts of outliers in our datasets as represented in our datasets. However due to not knowing the significance of why these outliers exists, and are they really outliers, we will let them stay in our dataset. Before we proceed into our Machine Learning Algorithms is that we should do the classic 80/20 Split, in which 80% of data is training, 20% is testing. Furthermore, we need to make sure we get 80% of each subjectID."
   ]
  },
  {
   "cell_type": "code",
   "execution_count": 6,
   "metadata": {},
   "outputs": [],
   "source": [
    "subject0 = df[df['SubjectID'] == 0]\n",
    "val = math.floor(.8*len(subject0.index))\n",
    "df_train = subject0.iloc[:val,:]\n",
    "df_test = subject0.iloc[val:,:]\n",
    "\n",
    "\n",
    "subject1 = df[df['SubjectID'] == 1.0]\n",
    "val = math.floor(.8*len(subject1.index))\n",
    "df_train = df_train.append(subject1.iloc[:val,:])\n",
    "df_test = df_test.append(subject1.iloc[val:,:])\n",
    "\n",
    "subject2 = df[df['SubjectID'] == 2.0]\n",
    "val = math.floor(.8*len(subject2.index))\n",
    "df_train = df_train.append(subject2.iloc[:val,:])\n",
    "df_test = df_test.append(subject2.iloc[val:,:])\n",
    "\n",
    "subject3 = df[df['SubjectID'] == 3.0]\n",
    "val = math.floor(.8*len(subject3.index))\n",
    "df_train = df_train.append(subject3.iloc[:val,:])\n",
    "df_test = df_test.append(subject3.iloc[val:,:])\n",
    "\n",
    "subject4 = df[df['SubjectID'] == 4.0]\n",
    "val = math.floor(.8*len(subject4.index))\n",
    "df_train = df_train.append(subject4.iloc[:val,:])\n",
    "df_test = df_test.append(subject4.iloc[val:,:])\n",
    "\n",
    "subject5 = df[df['SubjectID'] == 5.0]\n",
    "val = math.floor(.8*len(subject5.index))\n",
    "df_train = df_train.append(subject5.iloc[:val,:])\n",
    "df_test = df_test.append(subject5.iloc[val:,:])\n",
    "\n",
    "subject6 = df[df['SubjectID'] == 6.0]\n",
    "val = math.floor(.8*len(subject6.index))\n",
    "df_train = df_train.append(subject6.iloc[:val,:])\n",
    "df_test = df_test.append(subject6.iloc[val:,:])\n",
    "\n",
    "subject7 = df[df['SubjectID'] == 7.0]\n",
    "val = math.floor(.8*len(subject7.index))\n",
    "df_train = df_train.append(subject7.iloc[:val,:])\n",
    "df_test = df_test.append(subject7.iloc[val:,:])\n",
    "\n",
    "subject8 = df[df['SubjectID'] == 8.0]\n",
    "val = math.floor(.8*len(subject8.index))\n",
    "df_train = df_train.append(subject8.iloc[:val,:])\n",
    "df_test = df_test.append(subject8.iloc[val:,:])\n",
    "\n",
    "subject9 = df[df['SubjectID'] == 9.0]\n",
    "val = math.floor(.8*len(subject9.index))\n",
    "df_train = df_train.append(subject9.iloc[:val,:])\n",
    "df_test = df_test.append(subject9.iloc[val:,:])\n",
    "\n",
    "df_train = df_train.reset_index(drop=True)\n",
    "df_test = df_test.reset_index(drop=True)\n",
    "\n"
   ]
  },
  {
   "cell_type": "markdown",
   "metadata": {},
   "source": [
    "After splitting up our data we should remove unecessary colunms. In this case that would be SubjectID, Video, and predefinedlabel. SubjectID,VideoID,Attetion,Mediation, but we want to focus on training a classifier just based on EEG signals"
   ]
  },
  {
   "cell_type": "code",
   "execution_count": 7,
   "metadata": {},
   "outputs": [],
   "source": [
    "df_train = df_train.drop(columns = ['SubjectID', 'VideoID', 'Attention', 'Mediation', 'predefinedlabel'])\n",
    "df_test = df_test.drop(columns = ['SubjectID', 'VideoID', 'Attention', 'Mediation', 'predefinedlabel'])\n"
   ]
  },
  {
   "cell_type": "markdown",
   "metadata": {},
   "source": [
    "### Machine Learning Algorithms"
   ]
  },
  {
   "cell_type": "markdown",
   "metadata": {},
   "source": [
    "#### Logistic Regression"
   ]
  },
  {
   "cell_type": "markdown",
   "metadata": {},
   "source": [
    "Our data is good to go, and we can test our first machine learning algorithm Logisitc Regression."
   ]
  },
  {
   "cell_type": "code",
   "execution_count": 8,
   "metadata": {},
   "outputs": [],
   "source": [
    "X_train = df_train.drop('user-definedlabeln',axis=1)\n",
    "Y_train = df_train['user-definedlabeln']\n",
    "\n",
    "X_test = df_test.drop('user-definedlabeln',axis =1)\n",
    "Y_test = df_test['user-definedlabeln']\n",
    "\n"
   ]
  },
  {
   "cell_type": "code",
   "execution_count": 9,
   "metadata": {},
   "outputs": [
    {
     "name": "stdout",
     "output_type": "stream",
     "text": [
      "Test acccuracy: 0.5013634592910011\n"
     ]
    }
   ],
   "source": [
    "\n",
    "model = LogisticRegression(max_iter=1000)\n",
    "model.fit(X_train,Y_train)\n",
    "y_pred = model.predict(X_test)\n",
    "print(\"Test acccuracy:\",model.score(X_test,Y_test))"
   ]
  },
  {
   "cell_type": "markdown",
   "metadata": {},
   "source": [
    "Ok running our logistic regression model against the test dataset, we recieve a pretty bad accuracy of 50%. Before possibly finding explainations why this is so lets run other machine learning models"
   ]
  },
  {
   "cell_type": "code",
   "execution_count": 10,
   "metadata": {},
   "outputs": [
    {
     "data": {
      "image/png": "[encoded data removed]",
      "text/plain": [
       "<Figure size 432x288 with 2 Axes>"
      ]
     },
     "metadata": {
      "needs_background": "light"
     },
     "output_type": "display_data"
    }
   ],
   "source": [
    "#SOURCE CODE: https://www.stackvidhya.com/plot-confusion-matrix-in-python-and-why/\n",
    "\n",
    "pred = model.predict(X_test)\n",
    "cm = confusion_matrix(Y_test,y_pred)\n",
    "ax = sns.heatmap(cm/np.sum(cm), annot=True, \n",
    "            fmt='.2%', cmap='magma')\n",
    "\n",
    "ax.set_title('Seaborn Confusion Matrix with labels\\n\\n');\n",
    "ax.set_xlabel('\\nPredicted Values')\n",
    "ax.set_ylabel('Actual Values ');\n",
    "\n",
    "## Ticket labels - List must be in alphabetical order\n",
    "ax.xaxis.set_ticklabels(['Not Confused','Confused'])\n",
    "ax.yaxis.set_ticklabels(['Not Confused','Confused'])\n",
    "\n",
    "## Display the visualization of the Confusion Matrix.\n",
    "plt.show()"
   ]
  },
  {
   "cell_type": "markdown",
   "metadata": {},
   "source": [
    "#### SVM"
   ]
  },
  {
   "cell_type": "code",
   "execution_count": 11,
   "metadata": {},
   "outputs": [
    {
     "name": "stdout",
     "output_type": "stream",
     "text": [
      "test_accuracy: 0.6408258667705493\n"
     ]
    }
   ],
   "source": [
    "model = SVC()\n",
    "model.fit(X_train, Y_train)\n",
    "print(\"test_accuracy:\",model.score(X_test,Y_test))\n"
   ]
  },
  {
   "cell_type": "markdown",
   "metadata": {},
   "source": [
    "64% is better than before, but it isn't perfect, lets say if we can improve our test_accuracy with tune parameters"
   ]
  },
  {
   "cell_type": "markdown",
   "metadata": {},
   "source": [
    "##### 1. Regularization (C)"
   ]
  },
  {
   "cell_type": "code",
   "execution_count": 27,
   "metadata": {},
   "outputs": [
    {
     "name": "stdout",
     "output_type": "stream",
     "text": [
      "Accuracy: 0.6431632255551227\n"
     ]
    }
   ],
   "source": [
    "model_c = SVC(C=10)\n",
    "model_c.fit(X_train, Y_train)\n",
    "print(\"Accuracy:\",model_c.score(X_test, Y_test))"
   ]
  },
  {
   "cell_type": "code",
   "execution_count": 28,
   "metadata": {},
   "outputs": [
    {
     "name": "stdout",
     "output_type": "stream",
     "text": [
      "Accuracy: 0.6392676275808337\n"
     ]
    }
   ],
   "source": [
    "model_c = SVC(C=100)\n",
    "model_c.fit(X_train, Y_train)\n",
    "print(\"Accuracy:\",model_c.score(X_test, Y_test))"
   ]
  },
  {
   "cell_type": "markdown",
   "metadata": {},
   "source": [
    "##### 2. Gamma"
   ]
  },
  {
   "cell_type": "code",
   "execution_count": 29,
   "metadata": {},
   "outputs": [
    {
     "name": "stdout",
     "output_type": "stream",
     "text": [
      "Accuracy: 0.48967666536813403\n"
     ]
    }
   ],
   "source": [
    "\n",
    "model_g = SVC(gamma=10)\n",
    "model_g.fit(X_train, Y_train)\n",
    "print(\"Accuracy:\",model_g.score(X_test, Y_test))\n",
    "\n"
   ]
  },
  {
   "cell_type": "markdown",
   "metadata": {},
   "source": [
    "##### 3. Kernel"
   ]
  },
  {
   "cell_type": "code",
   "execution_count": null,
   "metadata": {},
   "outputs": [],
   "source": [
    "#model_k = SVC(kernel='linear')\n",
    "#model_k.fit(X_train, Y_train)\n",
    "#model_k.score(X_test, Y_test)\n",
    "\n",
    "#takes too long"
   ]
  },
  {
   "cell_type": "code",
   "execution_count": 30,
   "metadata": {},
   "outputs": [
    {
     "name": "stdout",
     "output_type": "stream",
     "text": [
      "Accuracy: 0.6408258667705493\n"
     ]
    }
   ],
   "source": [
    "model_k = SVC(kernel='rbf')\n",
    "model_k.fit(X_train, Y_train)\n",
    "print(\"Accuracy:\",model_k.score(X_test, Y_test))"
   ]
  },
  {
   "cell_type": "code",
   "execution_count": 31,
   "metadata": {},
   "outputs": [
    {
     "name": "stdout",
     "output_type": "stream",
     "text": [
      "Accuracy: 0.5305804440981691\n"
     ]
    }
   ],
   "source": [
    "model_k = SVC(kernel='sigmoid')\n",
    "model_k.fit(X_train, Y_train)\n",
    "print(\"Accuracy:\",model_k.score(X_test, Y_test))"
   ]
  },
  {
   "cell_type": "code",
   "execution_count": 32,
   "metadata": {},
   "outputs": [
    {
     "name": "stdout",
     "output_type": "stream",
     "text": [
      "Accuracy: 0.48967666536813403\n"
     ]
    }
   ],
   "source": [
    "model_k = SVC(kernel='poly')\n",
    "model_k.fit(X_train, Y_train)\n",
    "print(\"Accuracy:\",model_k.score(X_test, Y_test))"
   ]
  },
  {
   "cell_type": "code",
   "execution_count": 33,
   "metadata": {},
   "outputs": [
    {
     "name": "stdout",
     "output_type": "stream",
     "text": [
      "Accuracy: 0.48967666536813403\n"
     ]
    }
   ],
   "source": [
    "model = SVC(C=10,kernel='rbf')\n",
    "model.fit(X_train, Y_train)\n",
    "print(\"Accuracy:\",model_k.score(X_test, Y_test))"
   ]
  },
  {
   "cell_type": "code",
   "execution_count": 45,
   "metadata": {},
   "outputs": [
    {
     "name": "stdout",
     "output_type": "stream",
     "text": [
      "Accuracy: 0.6408258667705493\n"
     ]
    },
    {
     "data": {
      "image/png": "[encoded data removed]",
      "text/plain": [
       "<Figure size 432x288 with 2 Axes>"
      ]
     },
     "metadata": {
      "needs_background": "light"
     },
     "output_type": "display_data"
    }
   ],
   "source": [
    "#SOURCE CODE: https://www.stackvidhya.com/plot-confusion-matrix-in-python-and-why/\n",
    "\n",
    "model_k = SVC(kernel='rbf')\n",
    "model_k.fit(X_train, Y_train)\n",
    "print(\"Accuracy:\",model_k.score(X_test, Y_test))\n",
    "\n",
    "pred = model.predict(X_test)\n",
    "cm = confusion_matrix(Y_test,pred)\n",
    "ax = sns.heatmap(cm/np.sum(cm), annot=True, \n",
    "            fmt='.2%', cmap='magma')\n",
    "\n",
    "ax.set_title('Seaborn Confusion Matrix with labels\\n\\n');\n",
    "ax.set_xlabel('\\nPredicted Values')\n",
    "ax.set_ylabel('Actual Values ');\n",
    "\n",
    "## Ticket labels - List must be in alphabetical order\n",
    "ax.xaxis.set_ticklabels(['Not Confused','Confused'])\n",
    "ax.yaxis.set_ticklabels(['Not Confused','Confused'])\n",
    "\n",
    "## Display the visualization of the Confusion Matrix.\n",
    "plt.show()"
   ]
  },
  {
   "cell_type": "markdown",
   "metadata": {},
   "source": [
    "With our tune parameters we are only able to increase our test accuracy to 64.3%"
   ]
  },
  {
   "cell_type": "markdown",
   "metadata": {},
   "source": [
    "#### LDA"
   ]
  },
  {
   "cell_type": "code",
   "execution_count": 42,
   "metadata": {},
   "outputs": [
    {
     "name": "stdout",
     "output_type": "stream",
     "text": [
      "Accuracy: 0.6365407089988313\n"
     ]
    }
   ],
   "source": [
    "model = LinearDiscriminantAnalysis(n_components=1)\n",
    "model.fit(X_train,Y_train)\n",
    "print(\"Accuracy:\",model.score(X_test,Y_test))\n",
    "\n"
   ]
  },
  {
   "cell_type": "code",
   "execution_count": 43,
   "metadata": {},
   "outputs": [
    {
     "data": {
      "image/png": "[encoded data removed]",
      "text/plain": [
       "<Figure size 432x288 with 2 Axes>"
      ]
     },
     "metadata": {
      "needs_background": "light"
     },
     "output_type": "display_data"
    }
   ],
   "source": [
    "#SOURCE CODE: https://www.stackvidhya.com/plot-confusion-matrix-in-python-and-why/\n",
    "\n",
    "pred = model.predict(X_test)\n",
    "cm = confusion_matrix(Y_test,pred)\n",
    "ax = sns.heatmap(cm/np.sum(cm), annot=True, \n",
    "            fmt='.2%', cmap='magma')\n",
    "\n",
    "ax.set_title('Seaborn Confusion Matrix with labels\\n\\n');\n",
    "ax.set_xlabel('\\nPredicted Values')\n",
    "ax.set_ylabel('Actual Values ');\n",
    "\n",
    "## Ticket labels - List must be in alphabetical order\n",
    "ax.xaxis.set_ticklabels(['Not Confused','Confused'])\n",
    "ax.yaxis.set_ticklabels(['Not Confused','Confused'])\n",
    "\n",
    "## Display the visualization of the Confusion Matrix.\n",
    "plt.show()"
   ]
  },
  {
   "cell_type": "markdown",
   "metadata": {},
   "source": [
    "We get a test accuracy of 63.6% which is close to the svm, however the LDA only takes .8s which is significantly faster"
   ]
  },
  {
   "cell_type": "markdown",
   "metadata": {},
   "source": [
    "#### Random Forest Regression"
   ]
  },
  {
   "cell_type": "code",
   "execution_count": 53,
   "metadata": {},
   "outputs": [
    {
     "name": "stdout",
     "output_type": "stream",
     "text": [
      "Accuracy: 0.6081028437865212\n"
     ]
    }
   ],
   "source": [
    "model = RandomForestClassifier(n_estimators = 100)\n",
    "model.fit(X_train,Y_train)\n",
    "print(\"Accuracy:\",model.score(X_test,Y_test))\n"
   ]
  },
  {
   "cell_type": "code",
   "execution_count": 55,
   "metadata": {},
   "outputs": [
    {
     "data": {
      "image/png": "[encoded data removed]",
      "text/plain": [
       "<Figure size 432x288 with 2 Axes>"
      ]
     },
     "metadata": {
      "needs_background": "light"
     },
     "output_type": "display_data"
    }
   ],
   "source": [
    "#SOURCE CODE: https://www.stackvidhya.com/plot-confusion-matrix-in-python-and-why/\n",
    "\n",
    "pred = model.predict(X_test)\n",
    "cm = confusion_matrix(Y_test,pred)\n",
    "ax = sns.heatmap(cm/np.sum(cm), annot=True, \n",
    "            fmt='.2%', cmap='magma')\n",
    "\n",
    "ax.set_title('Random Forest Regression Confusion Matrix with labels\\n\\n');\n",
    "ax.set_xlabel('\\nPredicted Values')\n",
    "ax.set_ylabel('Actual Values ');\n",
    "\n",
    "## Ticket labels - List must be in alphabetical order\n",
    "ax.xaxis.set_ticklabels(['Not Confused','Confused'])\n",
    "ax.yaxis.set_ticklabels(['Not Confused','Confused'])\n",
    "\n",
    "## Display the visualization of the Confusion Matrix.\n",
    "plt.show()"
   ]
  },
  {
   "cell_type": "markdown",
   "metadata": {},
   "source": [
    "Accuracy is at 60% which is not as good as SVM or LDA, however it is still significantly better than logestic Regression"
   ]
  },
  {
   "cell_type": "markdown",
   "metadata": {},
   "source": []
  }
 ],
 "metadata": {
  "interpreter": {
   "hash": "8ac149a002648cb5af2c83197032ad758b147ec900a220457511764d74ecb69c"
  },
  "kernelspec": {
   "display_name": "Python 3.9.7 ('base')",
   "language": "python",
   "name": "python3"
  },
  "language_info": {
   "codemirror_mode": {
    "name": "ipython",
    "version": 3
   },
   "file_extension": ".py",
   "mimetype": "text/x-python",
   "name": "python",
   "nbconvert_exporter": "python",
   "pygments_lexer": "ipython3",
   "version": "3.9.7"
  },
  "orig_nbformat": 4
 },
 "nbformat": 4,
 "nbformat_minor": 2
}
